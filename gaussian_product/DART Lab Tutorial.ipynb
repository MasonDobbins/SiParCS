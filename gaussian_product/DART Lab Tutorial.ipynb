{
 "cells": [
  {
   "cell_type": "markdown",
   "metadata": {
    "slideshow": {
     "slide_type": "slide"
    }
   },
   "source": [
    "## Dart Lab Tutorial"
   ]
  },
  {
   "cell_type": "markdown",
   "metadata": {
    "slideshow": {
     "slide_type": "slide"
    }
   },
   "source": [
    "#### Starting interactive cells\n",
    "We will use the cell below as a header file essentially.  We will import all of the nessecary packages from this cell, and use them throughout the rest of the document. Throughout this document, we will be using code from previous cells, and gradually building off of it to add more features. "
   ]
  },
  {
   "cell_type": "code",
   "execution_count": 87,
   "metadata": {
    "slideshow": {
     "slide_type": "subslide"
    }
   },
   "outputs": [],
   "source": [
    "import math\n",
    "import numpy as np\n",
    "import scipy as sp\n",
    "import matplotlib.pyplot as plt\n",
    "import math\n",
    "import ipywidgets as widgets\n",
    "from pylab import *\n",
    "from ipywidgets import interact, interactive, fixed, interact_manual\n",
    "from IPython.display import display, Math, Latex\n",
    "from scipy.integrate import quad\n",
    "from scipy import integrate\n",
    "from sympy import *\n",
    "import matplotlib.ticker as plticker\n",
    "\n",
    "\n",
    "PI = np.pi"
   ]
  },
  {
   "cell_type": "markdown",
   "metadata": {
    "slideshow": {
     "slide_type": "slide"
    }
   },
   "source": [
    "### Example: Estimating the Temperature Outside pt. 1\n",
    "The cell below is going to be our first interactive cell.  In this cell, we are able to adjust the silders to change our temperature value, and also change the size of our icon.  The purpose of this is to introduce the idea of **interactive cells**, and show some of the basic features that they include."
   ]
  },
  {
   "cell_type": "code",
   "execution_count": 77,
   "metadata": {
    "slideshow": {
     "slide_type": "subslide"
    }
   },
   "outputs": [
    {
     "data": {
      "application/vnd.jupyter.widget-view+json": {
       "model_id": "a854a56f800843dfa4e223110f079500",
       "version_major": 2,
       "version_minor": 0
      },
      "text/plain": [
       "interactive(children=(FloatSlider(value=1.0, description='x', max=4.0, min=-4.0), FloatSlider(value=300.0, des…"
      ]
     },
     "metadata": {},
     "output_type": "display_data"
    },
    {
     "data": {
      "text/plain": [
       "<function __main__.f(x, y, r)>"
      ]
     },
     "execution_count": 77,
     "metadata": {},
     "output_type": "execute_result"
    }
   ],
   "source": [
    "def f(x, y, r):\n",
    "    plt.axis([-4, 4, -.1, .2])\n",
    "    plt.xlabel('Temperature')\n",
    "    plt.ylabel('Probability')\n",
    "    plt.title('An observation has a value (*),')\n",
    "    plt.yticks([0, 0.2, 0.4, 0.6])\n",
    "    plt.xticks([-4, -2, 0, 2, 4])\n",
    "    plt.grid(True)\n",
    "    plt.scatter([x], [y], marker='*', s=r, c='r')\n",
    "    plt.show()\n",
    "\n",
    "setx = widgets.FloatSlider(value=1.0, min=-4.0, max=4.0)\n",
    "setr = widgets.FloatSlider(value=300, min=10, max= 1000)\n",
    "\n",
    "interact(f, x=(setx), y=fixed(0), r=(setr))\n",
    "\n"
   ]
  },
  {
   "cell_type": "markdown",
   "metadata": {
    "slideshow": {
     "slide_type": "slide"
    }
   },
   "source": [
    "### Estimating the Temperature outside pt. 2\n",
    "Here in the cell below, we have a similar graph as before, but added an error distribution (blue curve) that is associated with the instrument.   This **gaussian function** can be used as a basis for future graphs, and will be called upon multiple times in the rest of this document. Instrument builder says thermometer is unbiased with =/- 0.8°C gaussian error."
   ]
  },
  {
   "cell_type": "markdown",
   "metadata": {
    "slideshow": {
     "slide_type": "subslide"
    }
   },
   "source": [
    "The red plot is $P(\\frac{T}{T_0})$; probability of temperature *given* that $T_0$ was observed."
   ]
  },
  {
   "cell_type": "code",
   "execution_count": 78,
   "metadata": {
    "slideshow": {
     "slide_type": "subslide"
    }
   },
   "outputs": [
    {
     "data": {
      "application/vnd.jupyter.widget-view+json": {
       "model_id": "a7afade051774cda9d99ebe47c44a3b9",
       "version_major": 2,
       "version_minor": 0
      },
      "text/plain": [
       "interactive(children=(FloatSlider(value=1.0, description='mu', max=4.0, min=-4.0), FloatSlider(value=0.8, desc…"
      ]
     },
     "metadata": {},
     "output_type": "display_data"
    },
    {
     "data": {
      "text/plain": [
       "<function __main__.gaussian(mu, sigma)>"
      ]
     },
     "execution_count": 78,
     "metadata": {},
     "output_type": "execute_result"
    }
   ],
   "source": [
    "# Base gaussian function\n",
    "def gaussian(mu, sigma):\n",
    "    x=np.linspace(-10, 10, num=1000)\n",
    "    y=1/(sigma*np.sqrt(2*np.pi))*np.exp((-1/2)*((x-mu)/sigma)**2)\n",
    "    plt.plot(x,y, c='r')\n",
    "    plt.scatter(mu, 0, c='r')\n",
    "    plt.axis([-4, 4, -.1, .2])\n",
    "    plt.xlabel('Temperature')\n",
    "    plt.ylabel('Probability')\n",
    "    plt.title('An observation has a value (*),')\n",
    "    plt.yticks([0, 0.2, 0.4, 0.6])\n",
    "    plt.xticks([-4, -2, 0, 2, 4])\n",
    "    plt.grid(True)\n",
    "    plt.show()\n",
    "\n",
    "setmu = widgets.FloatSlider(value=1.0, min=-4.0, max=4.0)\n",
    "setsigma = widgets.FloatSlider(value=0.80, min=0.1, max=10)\n",
    "\n",
    "interact(gaussian, mu=(setmu), sigma=(setsigma))\n",
    "    "
   ]
  },
  {
   "cell_type": "markdown",
   "metadata": {
    "slideshow": {
     "slide_type": "slide"
    }
   },
   "source": [
    "### We also have a prior estimate of temperature.\n",
    "**Any future lines using the color green will be refering to prior PDF.**"
   ]
  },
  {
   "cell_type": "code",
   "execution_count": 79,
   "metadata": {
    "collapsed": true,
    "slideshow": {
     "slide_type": "subslide"
    }
   },
   "outputs": [
    {
     "data": {
      "application/vnd.jupyter.widget-view+json": {
       "model_id": "85423a215e05491b9d1f94e283efd7e4",
       "version_major": 2,
       "version_minor": 0
      },
      "text/plain": [
       "interactive(children=(FloatSlider(value=1.0, description='mu', max=4.0, min=-4.0), FloatSlider(value=0.8, desc…"
      ]
     },
     "metadata": {},
     "output_type": "display_data"
    },
    {
     "data": {
      "text/plain": [
       "<function __main__.gaussian(mu, sigma)>"
      ]
     },
     "execution_count": 79,
     "metadata": {},
     "output_type": "execute_result"
    }
   ],
   "source": [
    "# Base gaussian function\n",
    "def gaussian(mu, sigma):\n",
    "    x=np.linspace(-10, 10, num=1000)\n",
    "    y=1/(sigma*np.sqrt(2*np.pi))*np.exp((-1/2)*((x-mu)/sigma)**2)\n",
    "    plt.plot(x,y, c='g')\n",
    "    plt.axis([-4, 4, -.1, .2])\n",
    "    plt.xlabel('Temperature')\n",
    "    plt.ylabel('Probability')\n",
    "    plt.title('Prior Estimate of Temperature')\n",
    "    plt.yticks([0, 0.2, 0.4, 0.6])\n",
    "    plt.xticks([-4, -2, 0, 2, 4])\n",
    "    plt.grid(True)\n",
    "    plt.show()\n",
    "\n",
    "setmu = widgets.FloatSlider(value=1.0, min=-4.0, max=4.0)\n",
    "setsigma = widgets.FloatSlider(value=0.80, min=0.1, max=10)    \n",
    "\n",
    "interact(gaussian, mu=(setmu), sigma=(setsigma))\n",
    "    "
   ]
  },
  {
   "cell_type": "markdown",
   "metadata": {
    "slideshow": {
     "slide_type": "subslide"
    }
   },
   "source": [
    "The green curve is $P(\\frac{T}{T_0})$;\n",
    "probability of temperature given all available **prior** information $C$."
   ]
  },
  {
   "cell_type": "markdown",
   "metadata": {
    "slideshow": {
     "slide_type": "subslide"
    }
   },
   "source": [
    "Prior information $C$ can include:\n",
    "\n",
    "1. Observations of things besides $T$;\n",
    "2. Model forecast made using observations at earlier times;\n",
    "3. *A priori* physical constraints $(T > -273.15°C)$;\n",
    "4. Climatological constraints $(-30°C < T < 40°C)$."
   ]
  },
  {
   "cell_type": "markdown",
   "metadata": {
    "slideshow": {
     "slide_type": "slide"
    }
   },
   "source": [
    "### Combining the Prior Estimate and Observation\n",
    "#### Bayes Theorem: \n",
    "$$P(T|T_0,C)=\\frac{P(T_0|T,C)P(T|C)}{P(T_0|C)}$$\n",
    "\n",
    "The LHS represents the **Posterior**: Probability of $T$ given observations and Prior.  Also called **update** or **analysis**.\n",
    "\n",
    "While the RHS represents the **likelihood**: Probability that $T_0$ is observed if $T$ is a true value and given prior information $C$.\n",
    "\n",
    "Rewrite Bayes as:\n",
    "\n",
    "$$\\frac{P(T_0|T,C)P(T|C)}{P(T_0|C)}$$\n",
    "\n",
    "$$\\frac{P(T_0|T,C)P(T|C)}{\\int P(T_0|x)P(x|C)dx}$$\n",
    "\n",
    "$$\\frac{\\color{red}{P(T_0|T,C)}\\color{green}{P(T|C)}}{normalization}$$\n",
    "\n",
    "Denominator normalizes so Posterior is PDF."
   ]
  },
  {
   "cell_type": "code",
   "execution_count": 80,
   "metadata": {
    "slideshow": {
     "slide_type": "slide"
    }
   },
   "outputs": [
    {
     "data": {
      "application/vnd.jupyter.widget-view+json": {
       "model_id": "e1618b39cdbf48a7a2137db3968977d7",
       "version_major": 2,
       "version_minor": 0
      },
      "text/plain": [
       "interactive(children=(FloatSlider(value=-1.0, description='mu', max=4.0, min=-4.0), FloatSlider(value=1.3, des…"
      ]
     },
     "metadata": {},
     "output_type": "display_data"
    },
    {
     "data": {
      "text/plain": [
       "<function __main__.gaussian(mu, sigma)>"
      ]
     },
     "execution_count": 80,
     "metadata": {},
     "output_type": "execute_result"
    }
   ],
   "source": [
    "# Base gaussian function\n",
    "def gaussian(mu, sigma):\n",
    "    x=np.linspace(-10, 10, num=1000)\n",
    "    y=1/(sigma*np.sqrt(2*np.pi))*np.exp((-1/2)*((x-mu)/sigma)**2)\n",
    "    plt.plot(x,y, c='g')\n",
    "    plt.axis([-4, 4, -.1, .2])\n",
    "    plt.xlabel('Temperature')\n",
    "    plt.ylabel('Probability')\n",
    "    plt.title('Prior Estimate of Temperature')\n",
    "    plt.yticks([0, 0.2, 0.4, 0.6])\n",
    "    plt.xticks([-4, -2, 0, 2, 4])\n",
    "    plt.grid(True)\n",
    "    plt.text(-3.5, .25, r'Prior PDF')\n",
    "    plt.show()\n",
    "\n",
    "\n",
    "setmu = widgets.FloatSlider(value=-1.0, min=-4.0, max=4.0)\n",
    "setsigma = widgets.FloatSlider(value=1.30, min=0.1, max=10)\n",
    "\n",
    "interact(gaussian, mu=(setmu), sigma=(setsigma))\n",
    "    "
   ]
  },
  {
   "cell_type": "code",
   "execution_count": 97,
   "metadata": {
    "slideshow": {
     "slide_type": "slide"
    }
   },
   "outputs": [
    {
     "data": {
      "application/vnd.jupyter.widget-view+json": {
       "model_id": "76306a2af423442dad1362dba68568e9",
       "version_major": 2,
       "version_minor": 0
      },
      "text/plain": [
       "interactive(children=(FloatSlider(value=1.0, description='mu1', max=4.0, min=-4.0), FloatSlider(value=0.8, des…"
      ]
     },
     "metadata": {},
     "output_type": "display_data"
    },
    {
     "data": {
      "text/plain": [
       "<function __main__.plot2gaussians(mu1, sigma1, mu2, sigma2)>"
      ]
     },
     "execution_count": 97,
     "metadata": {},
     "output_type": "execute_result"
    }
   ],
   "source": [
    "def gaussian(x, mu, sigma):\n",
    "    x=np.linspace(-10, 10, num=1000)\n",
    "    y=1/(sigma*np.sqrt(2*np.pi))*np.exp((-1/2)*((x-mu)/sigma)**2)\n",
    "    return y\n",
    "    \n",
    "def plot2gaussians(mu1, sigma1, mu2, sigma2):\n",
    "    x=np.linspace(-10, 10, num=1000)\n",
    "    y1=gaussian(x, mu1, sigma1)\n",
    "    y2=gaussian(x, mu2, sigma2)\n",
    "    \n",
    "    plt.axis([-4, 4, -.1, .2])\n",
    "    plt.xlabel('Temperature')\n",
    "    plt.ylabel('Probability')\n",
    "    plt.title('Prior Estimate and Observation')\n",
    "    plt.yticks([0, 0.2, 0.4, 0.6])\n",
    "    plt.xticks([-4, -2, 0, 2, 4])\n",
    "    plt.grid(True)\n",
    "    \n",
    "    plt.plot(x, y1, c='r')\n",
    "    plt.plot(x, y2, c='g')\n",
    "    \n",
    "    plt.scatter(mu1, 0, c='r')\n",
    "    plt.scatter(mu2, 0, c='g')\n",
    "    plt.show()\n",
    "\n",
    "setmu1 = widgets.FloatSlider(value=1.0, min=-4.0, max=4.0)\n",
    "setsigma1 = widgets.FloatSlider(value=0.80, min=0.1, max=10.0)\n",
    "setmu2 = widgets.FloatSlider(value=-1.0, min=-4.0, max=4.0)\n",
    "setsigma2 = widgets.FloatSlider(value=1.10, min=0.1, max=10.0)\n",
    "\n",
    "interact(plot2gaussians, mu1=(setmu1), sigma1=(setsigma1),\\\n",
    "         mu2=(setmu2), sigma2=(setsigma2) )"
   ]
  },
  {
   "cell_type": "markdown",
   "metadata": {
    "slideshow": {
     "slide_type": "slide"
    }
   },
   "source": [
    "$$P(T|T_0,C)=\\frac{\\color{red}{P(T_0|T,C)}\\color{green}{P(T|C)}}{normalization}$$"
   ]
  },
  {
   "cell_type": "code",
   "execution_count": 103,
   "metadata": {
    "slideshow": {
     "slide_type": "subslide"
    }
   },
   "outputs": [
    {
     "data": {
      "application/vnd.jupyter.widget-view+json": {
       "model_id": "f61d2d7dc5d345058e0ae4d89dc91e08",
       "version_major": 2,
       "version_minor": 0
      },
      "text/plain": [
       "interactive(children=(FloatSlider(value=1.0, description='mu1', max=4.0, min=-4.0), FloatSlider(value=0.8, des…"
      ]
     },
     "metadata": {},
     "output_type": "display_data"
    },
    {
     "data": {
      "text/plain": [
       "<function __main__.plot3gaussians(mu1, sigma1, mu2, sigma2)>"
      ]
     },
     "execution_count": 103,
     "metadata": {},
     "output_type": "execute_result"
    }
   ],
   "source": [
    "\n",
    "def gaussian(x, mu, sigma):\n",
    "    x=np.linspace(-10, 10, num=1000)\n",
    "    y=1/(sigma*np.sqrt(2*np.pi))*np.exp((-1/2)*((x-mu)/sigma)**2)\n",
    "    return y\n",
    "def plot3gaussians(mu1, sigma1, mu2, sigma2):\n",
    "    x=np.linspace(-10, 10, num=1000)\n",
    "    y1=gaussian(x, mu1, sigma1)\n",
    "    y2=gaussian(x, mu2, sigma2)\n",
    "    y3=(y1*y2)\n",
    "    \n",
    "    plt.axis([-4, 4, -.1, .2])\n",
    "    plt.xlabel('Temperature')\n",
    "    plt.ylabel('Probability')\n",
    "    plt.title('Prior Estimate and Observation')\n",
    "    plt.yticks([0, 0.2, 0.4, 0.6])\n",
    "    plt.xticks([-4, -2, 0, 2, 4])\n",
    "    plt.grid(True)\n",
    "    \n",
    "    plt.plot(x, y1, c='r')\n",
    "    plt.plot(x, y2, c='g')\n",
    "    plt.plot(x, y3, c='k')\n",
    "    \n",
    "    plt.scatter(mu1, 0, c='r')\n",
    "    plt.scatter(mu2, 0, c='g')\n",
    "    plt.show()\n",
    "\n",
    "setmu1 = widgets.FloatSlider(value=1.0, min=-4.0, max=4.0)\n",
    "setsigma1 = widgets.FloatSlider(value=0.80, min=0.1, max=10.0)\n",
    "setmu2 = widgets.FloatSlider(value=-1.0, min=-4.0, max=4.0)\n",
    "setsigma2 = widgets.FloatSlider(value=1.10, min=0.1, max=10.0)   \n",
    "\n",
    "interact(plot3gaussians, mu1=(setmu1), sigma1=(setsigma1),\\\n",
    "         mu2=(setmu2), sigma2=(setsigma2))\n",
    "\n"
   ]
  },
  {
   "cell_type": "markdown",
   "metadata": {
    "slideshow": {
     "slide_type": "slide"
    }
   },
   "source": [
    "$$\\frac{\\color{red}{P(T_0|T,C)}\\color{green}{P(T|C)}}{\\color{purple}{normalization}}$$"
   ]
  },
  {
   "cell_type": "code",
   "execution_count": 99,
   "metadata": {},
   "outputs": [
    {
     "data": {
      "application/vnd.jupyter.widget-view+json": {
       "model_id": "904b10b618e24315a606f5110328c72a",
       "version_major": 2,
       "version_minor": 0
      },
      "text/plain": [
       "interactive(children=(FloatSlider(value=1.0, description='mu1', max=4.0, min=-4.0), FloatSlider(value=0.8, des…"
      ]
     },
     "metadata": {},
     "output_type": "display_data"
    },
    {
     "data": {
      "text/plain": [
       "<function __main__.plot3gaussians(mu1, sigma1, mu2, sigma2, mu3, sigma3)>"
      ]
     },
     "execution_count": 99,
     "metadata": {},
     "output_type": "execute_result"
    }
   ],
   "source": [
    "\n",
    "def gaussian(x, mu, sigma):\n",
    "    x=np.linspace(-10, 10, num=1000)\n",
    "    y=1/(sigma*np.sqrt(2*np.pi))*np.exp((-1/2)*((x-mu)/sigma)**2)\n",
    "    return y\n",
    "def plot3gaussians(mu1, sigma1, mu2, sigma2, mu3, sigma3):\n",
    "    x=np.linspace(-10, 10, num=1000)\n",
    "    y1=gaussian(x, mu1, sigma1)\n",
    "    y2=gaussian(x, mu2, sigma2)\n",
    "    y3=gaussian(x, mu3, sigma3)\n",
    "    \n",
    "    plt.axis([-4, 4, -.1, .2])\n",
    "    plt.xlabel('Temperature')\n",
    "    plt.ylabel('Probability')\n",
    "    plt.title('Prior Estimate and Observation')\n",
    "    plt.yticks([0, 0.2, 0.4, 0.6])\n",
    "    plt.xticks([-4, -2, 0, 2, 4])\n",
    "    plt.grid(True)\n",
    "    \n",
    "    plt.plot(x, y1, c='r')\n",
    "    plt.plot(x, y2, c='g')\n",
    "    plt.plot(x, y3, c='k')\n",
    "    \n",
    "    plt.scatter(mu1, 0, c='r')\n",
    "    plt.scatter(mu2, 0, c='g')\n",
    "    plt.scatter(mu3, 0, c='k')\n",
    "    plt.show()\n",
    "\n",
    "setmu1 = widgets.FloatSlider(value=1.0, min=-4.0, max=4.0)\n",
    "setsigma1 = widgets.FloatSlider(value=0.80, min=0.1, max=10.0)\n",
    "setmu2 = widgets.FloatSlider(value=-1.0, min=-4.0, max=4.0)\n",
    "setsigma2 = widgets.FloatSlider(value=1.10, min=0.1, max=10.0)\n",
    "setmu3 = (setmu2.value+setmu1.value)/2\n",
    "setsigma3 = setsigma2.value * setsigma1.value    \n",
    "#fig, ax = plt.subplots()\n",
    "#ax.fill(x, y3, zorder=10)\n",
    "interact(plot3gaussians, mu1=(setmu1), sigma1=(setsigma1),\\\n",
    "         mu2=(setmu2), sigma2=(setsigma2), mu3=(setmu3),\\\n",
    "         sigma3=(setsigma3))"
   ]
  },
  {
   "cell_type": "markdown",
   "metadata": {},
   "source": [
    "$$P(T|T_0,C)=\\frac{\\color{red}{P(T_0|T,C)}\\color{green}{P(T|C)}}{\\color{purple}{normalization}}$$"
   ]
  },
  {
   "cell_type": "code",
   "execution_count": null,
   "metadata": {},
   "outputs": [],
   "source": [
    "def gaussian(x, mu, sigma):\n",
    "    x=np.linspace(-10, 10, num=1000)\n",
    "    y=1/(sigma*np.sqrt(2*np.pi))*np.exp((-1/2)*((x-mu)/sigma)**2)\n",
    "    return y\n",
    "def plot3gaussians(mu1, sigma1, mu2, sigma2, mu3, sigma3):\n",
    "    x=np.linspace(-10, 10, num=1000)\n",
    "    y1=gaussian(x, mu1, sigma1)\n",
    "    y2=gaussian(x, mu2, sigma2)\n",
    "    y3=gaussian(x, mu3, sigma3)\n",
    "    \n",
    "    plt.axis([-4, 4, -.1, .2])\n",
    "    plt.xlabel('Temperature')\n",
    "    plt.ylabel('Probability')\n",
    "    plt.title('Prior Estimate and Observation')\n",
    "    plt.yticks([0, 0.2, 0.4, 0.6])\n",
    "    plt.xticks([-4, -2, 0, 2, 4])\n",
    "    plt.grid(True)\n",
    "    \n",
    "    plt.plot(x, y1, c='r')\n",
    "    plt.plot(x, y2, c='g')\n",
    "    plt.plot(x, y3, c='k')\n",
    "    \n",
    "    plt.scatter(mu1, 0, c='r')\n",
    "    plt.scatter(mu2, 0, c='g')\n",
    "    plt.scatter(mu3, 0, c='k')\n",
    "    plt.show()\n",
    "\n",
    "setmu1 = widgets.FloatSlider(value=1.0, min=-4.0, max=4.0)\n",
    "setsigma1 = widgets.FloatSlider(value=0.80, min=0.1, max=10.0)\n",
    "setmu2 = widgets.FloatSlider(value=-1.0, min=-4.0, max=4.0)\n",
    "setsigma2 = widgets.FloatSlider(value=1.10, min=0.1, max=10.0)\n",
    "setmu3 = (setmu2.value+setmu1.value)/2\n",
    "setsigma3 = setsigma2.value * setsigma1.value    \n",
    "\n",
    "interact(plot3gaussians, mu1=(setmu1), sigma1=(setsigma1),\\\n",
    "         mu2=(setmu2), sigma2=(setsigma2), mu3=(setmu3),\\\n",
    "         sigma3=(setsigma3))\n"
   ]
  }
 ],
 "metadata": {
  "celltoolbar": "Slideshow",
  "kernelspec": {
   "display_name": "Python 3",
   "language": "python",
   "name": "python3"
  },
  "language_info": {
   "codemirror_mode": {
    "name": "ipython",
    "version": 3
   },
   "file_extension": ".py",
   "mimetype": "text/x-python",
   "name": "python",
   "nbconvert_exporter": "python",
   "pygments_lexer": "ipython3",
   "version": "3.7.1"
  }
 },
 "nbformat": 4,
 "nbformat_minor": 2
}
