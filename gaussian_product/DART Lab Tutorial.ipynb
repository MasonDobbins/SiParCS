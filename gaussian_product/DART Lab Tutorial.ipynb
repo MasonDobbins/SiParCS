{
 "cells": [
  {
   "cell_type": "markdown",
   "metadata": {},
   "source": [
    "## Dart Lab Tutorial"
   ]
  },
  {
   "cell_type": "markdown",
   "metadata": {},
   "source": [
    "#### Starting interactive cells\n",
    "We will use the cell below as a header file essentially.  We will import all of the nessecary packages from this cell, and use them throughout the rest of the document. Throughout this document, we will be using code from previous cells, and gradually building off of it to add more features. "
   ]
  },
  {
   "cell_type": "code",
   "execution_count": 141,
   "metadata": {},
   "outputs": [],
   "source": [
    "import math\n",
    "import numpy as np\n",
    "import scipy as sp\n",
    "import matplotlib.pyplot as plt\n",
    "import math\n",
    "import ipywidgets as widgets\n",
    "from pylab import *\n",
    "from ipywidgets import interact, interactive, fixed, interact_manual\n",
    "from IPython.display import display, Math, Latex\n",
    "from scipy.integrate import quad\n",
    "from scipy import integrate\n",
    "from sympy import *\n",
    "import matplotlib.ticker as plticker\n",
    "\n",
    "PI = np.pi"
   ]
  },
  {
   "cell_type": "markdown",
   "metadata": {},
   "source": [
    "### Example: Estimating the Temperature Outside pt. 1\n",
    "The cell below is going to be our first interactive cell.  In this cell, we are able to adjust the silders to change our temperature value, and also change the size of our icon.  The purpose of this is to introduce the idea of **interactive cells**, and show some of the basic features that they include."
   ]
  },
  {
   "cell_type": "code",
   "execution_count": 142,
   "metadata": {},
   "outputs": [
    {
     "data": {
      "application/vnd.jupyter.widget-view+json": {
       "model_id": "b6b097f0a6824317a05b8a93e8fcb70c",
       "version_major": 2,
       "version_minor": 0
      },
      "text/plain": [
       "interactive(children=(FloatSlider(value=0.0, description='x', max=4.0, min=-4.0), IntSlider(value=505, descrip…"
      ]
     },
     "metadata": {},
     "output_type": "display_data"
    },
    {
     "data": {
      "text/plain": [
       "<function __main__.f(x, y, r)>"
      ]
     },
     "execution_count": 142,
     "metadata": {},
     "output_type": "execute_result"
    }
   ],
   "source": [
    "def f(x, y, r):\n",
    "    plt.axis([-4, 4, -.1, .2])\n",
    "    plt.xlabel('Temperature')\n",
    "    plt.ylabel('Probability')\n",
    "    plt.title('An observation has a value (*),')\n",
    "    plt.yticks([0, 0.2, 0.4, 0.6])\n",
    "    plt.xticks([-4, -2, 0, 2, 4])\n",
    "    plt.grid(True)\n",
    "    plt.scatter([x], [y], marker='*', s=r, c='r')\n",
    "    plt.show()\n",
    "\n",
    "interact(f, x=(-4.0, 4.0), y=fixed(0), r=(10,1000))\n",
    "\n"
   ]
  },
  {
   "cell_type": "markdown",
   "metadata": {},
   "source": [
    "### Estimating the Temperature outside pt. 2\n",
    "Here in the cell below, we have a similar graph as before, but added an error distribution (blue curve) that is associated with the instrument.   This **gaussian function** can be used as a basis for future graphs, and will be called upon multiple times in the rest of this document. Instrument builder says thermometer is unbiased with =/- 0.8°C gaussian error."
   ]
  },
  {
   "cell_type": "markdown",
   "metadata": {},
   "source": [
    "The red plot is $P(\\frac{T}{T_0})$; probability of temperature *given* that $T_0$ was observed."
   ]
  },
  {
   "cell_type": "code",
   "execution_count": 143,
   "metadata": {
    "scrolled": true
   },
   "outputs": [
    {
     "data": {
      "application/vnd.jupyter.widget-view+json": {
       "model_id": "7bb1321f18b24c26aff502f9b6915184",
       "version_major": 2,
       "version_minor": 0
      },
      "text/plain": [
       "interactive(children=(FloatSlider(value=0.0, description='mu', max=4.0, min=-4.0), FloatSlider(value=5.05, des…"
      ]
     },
     "metadata": {},
     "output_type": "display_data"
    },
    {
     "data": {
      "text/plain": [
       "<function __main__.gaussian(mu, sigma)>"
      ]
     },
     "execution_count": 143,
     "metadata": {},
     "output_type": "execute_result"
    }
   ],
   "source": [
    "# Base gaussian function\n",
    "def gaussian(mu, sigma):\n",
    "    x=np.linspace(-10, 10, num=1000)\n",
    "    y=1/(sigma*np.sqrt(2*np.pi))*np.exp((-1/2)*((x-mu)/sigma)**2)\n",
    "    plt.plot(x,y, c='r')\n",
    "    plt.scatter(mu, 0, c='r')\n",
    "    plt.axis([-4, 4, -.1, .2])\n",
    "    plt.xlabel('Temperature')\n",
    "    plt.ylabel('Probability')\n",
    "    plt.title('An observation has a value (*),')\n",
    "    plt.yticks([0, 0.2, 0.4, 0.6])\n",
    "    plt.xticks([-4, -2, 0, 2, 4])\n",
    "    plt.grid(True)\n",
    "    plt.show()\n",
    "\n",
    "interact(gaussian, mu=(-4.0, 4.0), sigma=(0.1, 10))\n",
    "    "
   ]
  },
  {
   "cell_type": "markdown",
   "metadata": {},
   "source": [
    "### We also have a prior estimate of temperature.\n",
    "**Any future lines using the color green will be refering to prior PDF.**"
   ]
  },
  {
   "cell_type": "code",
   "execution_count": 144,
   "metadata": {},
   "outputs": [
    {
     "data": {
      "application/vnd.jupyter.widget-view+json": {
       "model_id": "42c588d9694b4c1a8bdd5b201a000fe1",
       "version_major": 2,
       "version_minor": 0
      },
      "text/plain": [
       "interactive(children=(FloatSlider(value=0.0, description='mu', max=4.0, min=-4.0), FloatSlider(value=5.05, des…"
      ]
     },
     "metadata": {},
     "output_type": "display_data"
    },
    {
     "data": {
      "text/plain": [
       "<function __main__.gaussian(mu, sigma)>"
      ]
     },
     "execution_count": 144,
     "metadata": {},
     "output_type": "execute_result"
    }
   ],
   "source": [
    "# Base gaussian function\n",
    "def gaussian(mu, sigma):\n",
    "    x=np.linspace(-10, 10, num=1000)\n",
    "    y=1/(sigma*np.sqrt(2*np.pi))*np.exp((-1/2)*((x-mu)/sigma)**2)\n",
    "    plt.plot(x,y, c='g')\n",
    "    plt.axis([-4, 4, -.1, .2])\n",
    "    plt.xlabel('Temperature')\n",
    "    plt.ylabel('Probability')\n",
    "    plt.title('Prior Estimate of Temperature')\n",
    "    plt.yticks([0, 0.2, 0.4, 0.6])\n",
    "    plt.xticks([-4, -2, 0, 2, 4])\n",
    "    plt.grid(True)\n",
    "    plt.show()\n",
    "\n",
    "interact(gaussian, mu=(-4.0, 4.0), sigma=(0.1, 10))\n",
    "    "
   ]
  },
  {
   "cell_type": "markdown",
   "metadata": {},
   "source": [
    "The green curve is $P(\\frac{T}{T_0})$;\n",
    "probability of temperature given all available **prior** information $C$."
   ]
  },
  {
   "cell_type": "markdown",
   "metadata": {},
   "source": [
    "Prior information $C$ can include:\n",
    "\n",
    "1. Observations of things besides $T$;\n",
    "2. Model forecast made using observations at earlier times;\n",
    "3. *A priori* physical constraints $(T > -273.15°C)$;\n",
    "4. Climatological constraints $(-30°C < T < 40°C)$."
   ]
  },
  {
   "cell_type": "markdown",
   "metadata": {},
   "source": [
    "### Combining the Prior Estimate and Observation\n",
    "#### Bayes Theorem: \n",
    "$$P(T|T_0,C)=\\frac{P(T_0|T,C)P(T|C)}{P(T_0|C)}$$\n",
    "\n",
    "The LHS represents the **Posterior**: Probability of $T$ given observations and Prior.  Also called **update** or **analysis**.\n",
    "\n",
    "While the RHS represents the **likelihood**: Probability that $T_0$ is observed if $T$ is a true value and given prior information $C$.\n",
    "\n",
    "Rewrite Bayes as:\n",
    "\n",
    "$$\\frac{P(T_0|T,C)P(T|C)}{P(T_0|C)}$$\n",
    "\n",
    "$$\\frac{P(T_0|T,C)P(T|C)}{\\int P(T_0|x)P(x|C)dx}$$\n",
    "\n",
    "$$\\frac{\\color{red}{P(T_0|T,C)}\\color{green}{P(T|C)}}{normalization}$$\n",
    "\n",
    "Denominator normalizes so Posterior is PDF."
   ]
  },
  {
   "cell_type": "code",
   "execution_count": 145,
   "metadata": {},
   "outputs": [
    {
     "data": {
      "application/vnd.jupyter.widget-view+json": {
       "model_id": "b0beb4e464794808b09248e9a379e75c",
       "version_major": 2,
       "version_minor": 0
      },
      "text/plain": [
       "interactive(children=(FloatSlider(value=0.0, description='mu', max=4.0, min=-4.0), FloatSlider(value=5.05, des…"
      ]
     },
     "metadata": {},
     "output_type": "display_data"
    },
    {
     "data": {
      "text/plain": [
       "<function __main__.gaussian(mu, sigma)>"
      ]
     },
     "execution_count": 145,
     "metadata": {},
     "output_type": "execute_result"
    }
   ],
   "source": [
    "# Base gaussian function\n",
    "def gaussian(mu, sigma):\n",
    "    x=np.linspace(-10, 10, num=1000)\n",
    "    y=1/(sigma*np.sqrt(2*np.pi))*np.exp((-1/2)*((x-mu)/sigma)**2)\n",
    "    plt.plot(x,y, c='g')\n",
    "    plt.axis([-4, 4, -.1, .2])\n",
    "    plt.xlabel('Temperature')\n",
    "    plt.ylabel('Probability')\n",
    "    plt.title('Prior Estimate of Temperature')\n",
    "    plt.yticks([0, 0.2, 0.4, 0.6])\n",
    "    plt.xticks([-4, -2, 0, 2, 4])\n",
    "    plt.grid(True)\n",
    "    plt.text(-3.5, .25, r'Prior PDF')\n",
    "    plt.show()\n",
    "\n",
    "interact(gaussian, mu=(-4.0, 4.0), sigma=(0.1, 10))\n",
    "    "
   ]
  },
  {
   "cell_type": "code",
   "execution_count": 146,
   "metadata": {},
   "outputs": [
    {
     "data": {
      "application/vnd.jupyter.widget-view+json": {
       "model_id": "f34dbd02366c4e0bb61a387e4bd61c3d",
       "version_major": 2,
       "version_minor": 0
      },
      "text/plain": [
       "interactive(children=(FloatSlider(value=0.0, description='mu1', max=4.0, min=-4.0), FloatSlider(value=5.05, de…"
      ]
     },
     "metadata": {},
     "output_type": "display_data"
    },
    {
     "data": {
      "text/plain": [
       "<function __main__.plot2gaussians(mu1, sigma1, mu2, sigma2)>"
      ]
     },
     "execution_count": 146,
     "metadata": {},
     "output_type": "execute_result"
    }
   ],
   "source": [
    "def gaussian(x, mu, sigma):\n",
    "    x=np.linspace(-10, 10, num=1000)\n",
    "    y=1/(sigma*np.sqrt(2*np.pi))*np.exp((-1/2)*((x-mu)/sigma)**2)\n",
    "    return y\n",
    "    \n",
    "def plot2gaussians(mu1, sigma1, mu2, sigma2):\n",
    "    x=np.linspace(-10, 10, num=1000)\n",
    "    y1=gaussian(x, mu1, sigma1)\n",
    "    y2=gaussian(x, mu2, sigma2)\n",
    "    \n",
    "    plt.axis([-4, 4, -.1, .2])\n",
    "    plt.xlabel('Temperature')\n",
    "    plt.ylabel('Probability')\n",
    "    plt.title('Prior Estimate and Observation')\n",
    "    plt.yticks([0, 0.2, 0.4, 0.6])\n",
    "    plt.xticks([-4, -2, 0, 2, 4])\n",
    "    plt.grid(True)\n",
    "    \n",
    "    plt.plot(x, y1, c='g')\n",
    "    plt.plot(x, y2, c='r')\n",
    "    \n",
    "    plt.scatter(mu1, 0)\n",
    "    plt.scatter(mu2, 0)\n",
    "    plt.show()\n",
    "    \n",
    "interact(plot2gaussians, mu1=(-4.0, 4.0), sigma1=(0.1, 10),\\\n",
    "         mu2=(-4.0, 4.0), sigma2=(0.1, 10) )"
   ]
  },
  {
   "cell_type": "markdown",
   "metadata": {},
   "source": [
    "$$\\frac{\\color{red}{P(T_0|T,C)}\\color{green}{P(T|C)}}{normalization}$$"
   ]
  },
  {
   "cell_type": "code",
   "execution_count": 151,
   "metadata": {},
   "outputs": [
    {
     "data": {
      "application/vnd.jupyter.widget-view+json": {
       "model_id": "ddf1357ae90e41bea1f465fdef86b3f6",
       "version_major": 2,
       "version_minor": 0
      },
      "text/plain": [
       "interactive(children=(FloatSlider(value=0.0, description='mu1', max=4.0, min=-4.0), FloatSlider(value=5.05, de…"
      ]
     },
     "metadata": {},
     "output_type": "display_data"
    },
    {
     "data": {
      "text/plain": [
       "<function __main__.plot3gaussians(mu1, sigma1, mu2, sigma2, mu3, sigma3)>"
      ]
     },
     "execution_count": 151,
     "metadata": {},
     "output_type": "execute_result"
    }
   ],
   "source": [
    "def gaussian(x, mu, sigma):\n",
    "    x=np.linspace(-10, 10, num=1000)\n",
    "    y=1/(sigma*np.sqrt(2*np.pi))*np.exp((-1/2)*((x-mu)/sigma)**2)\n",
    "    return y\n",
    "    \n",
    "def plot3gaussians(mu1, sigma1, mu2, sigma2, mu3, sigma3):\n",
    "    x=np.linspace(-10, 10, num=1000)\n",
    "    y1=gaussian(x, mu1, sigma1)\n",
    "    y2=gaussian(x, mu2, sigma2)\n",
    "    y3=gaussian(x, mu3, sigma3)\n",
    "    \n",
    "    plt.axis([-4, 4, -.1, .2])\n",
    "    plt.xlabel('Temperature')\n",
    "    plt.ylabel('Probability')\n",
    "    plt.title('Prior Estimate and Observation')\n",
    "    plt.yticks([0, 0.2, 0.4, 0.6])\n",
    "    plt.xticks([-4, -2, 0, 2, 4])\n",
    "    plt.grid(True)\n",
    "    \n",
    "    plt.plot(x, y1, c='g')\n",
    "    plt.plot(x, y2, c='r')\n",
    "    plt.plot(x, y3, c='b')\n",
    "    \n",
    "    plt.scatter(mu1, 0)\n",
    "    plt.scatter(mu2, 0)\n",
    "    plt.scatter(mu3, 0)\n",
    "    plt.show()\n",
    "    \n",
    "interact(plot3gaussians, mu1=(-4.0, 4.0), sigma1=(0.1, 10),\\\n",
    "         mu2=(-4.0, 4.0), sigma2=(0.1, 10), mu3=(-4.0, 4.0),\\\n",
    "         sigma3=(0.1, 10))"
   ]
  },
  {
   "cell_type": "code",
   "execution_count": null,
   "metadata": {},
   "outputs": [],
   "source": []
  },
  {
   "cell_type": "code",
   "execution_count": null,
   "metadata": {},
   "outputs": [],
   "source": []
  }
 ],
 "metadata": {
  "kernelspec": {
   "display_name": "Python 3",
   "language": "python",
   "name": "python3"
  },
  "language_info": {
   "codemirror_mode": {
    "name": "ipython",
    "version": 3
   },
   "file_extension": ".py",
   "mimetype": "text/x-python",
   "name": "python",
   "nbconvert_exporter": "python",
   "pygments_lexer": "ipython3",
   "version": "3.7.1"
  }
 },
 "nbformat": 4,
 "nbformat_minor": 2
}
