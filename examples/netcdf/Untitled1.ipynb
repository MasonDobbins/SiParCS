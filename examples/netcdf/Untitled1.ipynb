{
 "cells": [
  {
   "cell_type": "code",
   "execution_count": 1,
   "metadata": {
    "collapsed": true
   },
   "outputs": [],
   "source": [
    "%matplotlib inline"
   ]
  },
  {
   "cell_type": "code",
   "execution_count": 2,
   "metadata": {
    "collapsed": true
   },
   "outputs": [],
   "source": [
    "from netCDF4 import Dataset as NetCDFFile \n",
    "import matplotlib.pyplot as plt\n",
    "import numpy as np\n",
    "from mpl_toolkits.basemap import Basemap"
   ]
  },
  {
   "cell_type": "code",
   "execution_count": 3,
   "metadata": {
    "collapsed": true
   },
   "outputs": [],
   "source": [
    "nc_filename = '/Users/hendric/DART/recam/models/cam-fv/work/caminput.nc'\n",
    "nc = NetCDFFile(nc_filename)"
   ]
  },
  {
   "cell_type": "code",
   "execution_count": 5,
   "metadata": {},
   "outputs": [
    {
     "data": {
      "text/plain": [
       "<class 'netCDF4._netCDF4.Dataset'>\n",
       "root group (NETCDF3_CLASSIC data model, file format NETCDF3):\n",
       "    Conventions: CF-1.0\n",
       "    source: CAM\n",
       "    case: FV1.9x2.5_no_leap-ICs-72\n",
       "    title: \n",
       "    logname: raeder\n",
       "    host: bl1012en.ucar.ed\n",
       "    Version: $Name$\n",
       "    revision_Id: $Id$\n",
       "    initial_file: caminput.nc\n",
       "    topography_file: /fis/cgd/cseg/csm/inputdata/atm/cam/topo/USGS-gtopo30_1.9x2.5_remap_c050602.nc\n",
       "    landfrac_file: /fis/cgd/cseg/csm/inputdata/atm/cam/landfrac/landfrac_1.9x2.5_gx1v4_c060922.nc\n",
       "    sst_file: /blhome/raeder/Cam3/cam3.5/models/atm/cam/bld/FV1.9x2.5-O3/sst_HadOIBl_bc_1.9x2.5_1986.nc\n",
       "    DART_clamp_Q: min_val =   1.00000000000 , max val =              NA\n",
       "    DART_clamp_CLDLIQ: min_val =   0.00000000000 , max val =              NA\n",
       "    DART_clamp_CLDICE: min_val =   0.00000000000 , max val =              NA\n",
       "    dimensions(sizes): lat(96), lon(144), slat(95), slon(144), lev(26), ilev(27), isccp_prs(7), isccp_tau(7), isccp_prstau(49), time(1), tbnd(2), chars(8)\n",
       "    variables(dimensions): float64 \u001b[4mP0\u001b[0m(), float64 \u001b[4mlat\u001b[0m(lat), float64 \u001b[4mlon\u001b[0m(lon), float64 \u001b[4mslat\u001b[0m(slat), float64 \u001b[4mslon\u001b[0m(slon), float64 \u001b[4mw_stag\u001b[0m(slat), float64 \u001b[4mlev\u001b[0m(lev), float64 \u001b[4milev\u001b[0m(ilev), float64 \u001b[4misccp_prs\u001b[0m(isccp_prs), float64 \u001b[4misccp_tau\u001b[0m(isccp_ta), float64 \u001b[4misccp_prstau\u001b[0m(isccp_prsta), float64 \u001b[4mtime\u001b[0m(time), float64 \u001b[4mtime_bnds\u001b[0m(time,tbnd), |S1 \u001b[4mdate_written\u001b[0m(time,chars), |S1 \u001b[4mtime_written\u001b[0m(time,chars), int32 \u001b[4mntrm\u001b[0m(), int32 \u001b[4mntrn\u001b[0m(), int32 \u001b[4mntrk\u001b[0m(), int32 \u001b[4mndbase\u001b[0m(), int32 \u001b[4mnsbase\u001b[0m(), int32 \u001b[4mnbdate\u001b[0m(), int32 \u001b[4mnbsec\u001b[0m(), int32 \u001b[4mmdt\u001b[0m(), float64 \u001b[4mhyai\u001b[0m(ilev), float64 \u001b[4mhybi\u001b[0m(ilev), float64 \u001b[4mhyam\u001b[0m(lev), float64 \u001b[4mhybm\u001b[0m(lev), float64 \u001b[4mgw\u001b[0m(lat), int32 \u001b[4mndcur\u001b[0m(time), int32 \u001b[4mnscur\u001b[0m(time), int32 \u001b[4mdate\u001b[0m(time), float64 \u001b[4mco2vmr\u001b[0m(time), int32 \u001b[4mdatesec\u001b[0m(time), int32 \u001b[4mnsteph\u001b[0m(time), float64 \u001b[4mCLDICE\u001b[0m(time,lev,lat,lon), float64 \u001b[4mCLDLIQ\u001b[0m(time,lev,lat,lon), float64 \u001b[4mCLOUD\u001b[0m(time,lev,lat,lon), float64 \u001b[4mCONCLD\u001b[0m(time,lev,lat,lon), float64 \u001b[4mCUSH\u001b[0m(time,lat,lon), float64 \u001b[4mDELP\u001b[0m(time,lev,lat,lon), float64 \u001b[4mICEFRAC\u001b[0m(time,lat,lon), float64 \u001b[4mKVH\u001b[0m(time,ilev,lat,lon), float64 \u001b[4mKVM\u001b[0m(time,ilev,lat,lon), float64 \u001b[4mLCWAT\u001b[0m(time,lev,lat,lon), float64 \u001b[4mPBLH\u001b[0m(time,lat,lon), float64 \u001b[4mPS\u001b[0m(time,lat,lon), float64 \u001b[4mQ\u001b[0m(time,lev,lat,lon), float64 \u001b[4mQCWAT\u001b[0m(time,lev,lat,lon), float64 \u001b[4mQPERT\u001b[0m(time,lat,lon), float64 \u001b[4mSICTHK\u001b[0m(time,lat,lon), float64 \u001b[4mSNOWHICE\u001b[0m(time,lat,lon), float64 \u001b[4mT\u001b[0m(time,lev,lat,lon), float64 \u001b[4mTBOT\u001b[0m(time,lat,lon), float64 \u001b[4mTCWAT\u001b[0m(time,lev,lat,lon), float64 \u001b[4mTKE\u001b[0m(time,ilev,lat,lon), float64 \u001b[4mTPERT\u001b[0m(time,lat,lon), float64 \u001b[4mTS1\u001b[0m(time,lat,lon), float64 \u001b[4mTS2\u001b[0m(time,lat,lon), float64 \u001b[4mTS3\u001b[0m(time,lat,lon), float64 \u001b[4mTS4\u001b[0m(time,lat,lon), float64 \u001b[4mTSICE\u001b[0m(time,lat,lon), float64 \u001b[4mTSICERAD\u001b[0m(time,lat,lon), float64 \u001b[4mTSOCN\u001b[0m(time,lat,lon), float64 \u001b[4mUS\u001b[0m(time,lev,slat,lon), float64 \u001b[4mVS\u001b[0m(time,lev,lat,slon)\n",
       "    groups: "
      ]
     },
     "execution_count": 5,
     "metadata": {},
     "output_type": "execute_result"
    }
   ],
   "source": [
    "nc"
   ]
  },
  {
   "cell_type": "code",
   "execution_count": 6,
   "metadata": {
    "collapsed": true
   },
   "outputs": [],
   "source": [
    "lat = nc.variables['lat'][:]\n",
    "lon = nc.variables['lon'][:]\n",
    "time = nc.variables['time'][:]"
   ]
  },
  {
   "cell_type": "code",
   "execution_count": 14,
   "metadata": {},
   "outputs": [
    {
     "data": {
      "text/plain": [
       "<matplotlib.collections.LineCollection at 0x10b09b1d0>"
      ]
     },
     "execution_count": 14,
     "metadata": {},
     "output_type": "execute_result"
    },
    {
     "name": "stderr",
     "output_type": "stream",
     "text": [
      "/Users/hendric/anaconda3/lib/python3.6/site-packages/matplotlib/axis.py:1032: UserWarning: Unable to find pixel distance along axis for interval padding of ticks; assuming no interval padding needed.\n",
      "  warnings.warn(\"Unable to find pixel distance along axis \"\n",
      "/Users/hendric/anaconda3/lib/python3.6/site-packages/matplotlib/axis.py:1042: UserWarning: Unable to find pixel distance along axis for interval padding of ticks; assuming no interval padding needed.\n",
      "  warnings.warn(\"Unable to find pixel distance along axis \"\n"
     ]
    },
    {
     "data": {
      "image/png": "[encoded data removed]",
      "text/plain": [
       "<matplotlib.figure.Figure at 0x10b7534e0>"
      ]
     },
     "metadata": {},
     "output_type": "display_data"
    }
   ],
   "source": [
    "map = Basemap(projection='merc',\n",
    "              llcrnrlon=-180.,\n",
    "              llcrnrlat=0.,\n",
    "              urcrnrlon=180.,\n",
    "              urcrnrlat=90.,\n",
    "              resolution='i')\n",
    "map.drawcoastlines()\n",
    "map.drawstates()\n",
    "map.drawcountries()\n",
    "#map.drawlsmask(land_color='Linen', ocean_color='#CCFFFF') # can use HTML names or codes for colors\n",
    "#map.drawcounties() # you can even add counties (and other shapefiles!)"
   ]
  },
  {
   "cell_type": "code",
   "execution_count": 11,
   "metadata": {
    "collapsed": true
   },
   "outputs": [],
   "source": [
    "?Basemap"
   ]
  },
  {
   "cell_type": "code",
   "execution_count": null,
   "metadata": {
    "collapsed": true
   },
   "outputs": [],
   "source": [
    ">>> from mpl_toolkits.basemap import Basemap\n",
    ">>> import numpy as np\n",
    ">>> import matplotlib.pyplot as plt\n",
    ">>> # read in topo data (on a regular lat/lon grid)\n",
    ">>> etopo = np.loadtxt('etopo20data.gz')\n",
    ">>> lons  = np.loadtxt('etopo20lons.gz')\n",
    ">>> lats  = np.loadtxt('etopo20lats.gz')\n",
    ">>> # create Basemap instance for Robinson projection.\n",
    ">>> m = Basemap(projection='robin',lon_0=0.5*(lons[0]+lons[-1]))\n",
    ">>> # compute map projection coordinates for lat/lon grid.\n",
    ">>> x, y = m(*np.meshgrid(lons,lats))\n",
    ">>> # make filled contour plot.\n",
    ">>> cs = m.contourf(x,y,etopo,30,cmap=plt.cm.jet)\n",
    ">>> m.drawcoastlines() # draw coastlines\n",
    "m.drawmapboundary() # draw a line around the map region\n",
    "m.drawparallels(np.arange(-90.,120.,30.),labels=[1,0,0,0]) # draw parallels\n",
    "m.drawmeridians(np.arange(0.,420.,60.),labels=[0,0,0,1]) # draw meridians\n",
    "plt.title('Robinson Projection') # add a title\n",
    "plt.show()"
   ]
  }
 ],
 "metadata": {
  "kernelspec": {
   "display_name": "Python 3",
   "language": "python",
   "name": "python3"
  },
  "language_info": {
   "codemirror_mode": {
    "name": "ipython",
    "version": 3
   },
   "file_extension": ".py",
   "mimetype": "text/x-python",
   "name": "python",
   "nbconvert_exporter": "python",
   "pygments_lexer": "ipython3",
   "version": "3.6.3"
  }
 },
 "nbformat": 4,
 "nbformat_minor": 2
}
