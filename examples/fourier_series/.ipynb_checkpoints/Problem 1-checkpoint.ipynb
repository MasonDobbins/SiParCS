{
 "cells": [
  {
   "cell_type": "code",
   "execution_count": null,
   "metadata": {},
   "outputs": [],
   "source": [
    "# PROBLEM 1\n",
    "\n",
    "import pandas as pd\n",
    "import numpy as np\n",
    "import scipy as sp\n",
    "import plotly.plotly as py\n",
    "import matplotlib.pyplot as plt\n",
    "import math\n",
    "from IPython.display import display, Math, Latex\n",
    "from ipywidgets import interact, interactive, fixed, interact_manual\n",
    "from scipy.integrate import dblquad\n",
    "from scipy import integrate\n",
    "from sympy import sqrt\n",
    "from sympy.abc import x\n",
    "from sympy.integrals import Integral\n",
    "\n",
    "PI   = np.pi\n",
    "FMAX = 100\n",
    "\n",
    "a =  -PI\n",
    "b =   PI\n",
    "L =  b-a\n",
    "\n",
    "dx = 10000\n",
    "\n",
    "xrange = np.linspace(-PI, 7*PI, dx)\n",
    "\n",
    "x  = np.linspace(a, b, dx)\n",
    "\n",
    "\n",
    "\n",
    "def f(x):\n",
    "    A = 1\n",
    "    B = 2\n",
    "    C = 3\n",
    "    return A*x**2 + B*x + C\n",
    "\n",
    "def an(x,n):\n",
    "    def integrand(x,n):\n",
    "        return f(x) * np.cos(2*n*PI*x/L)\n",
    "    \n",
    "    options={'limit':10000}\n",
    "    integral = integrate.quad(integrand, a, b, args=(n), limit=1000)\n",
    "    return (2.0/L) * integral[0]\n",
    "\n",
    "def bn(x,n):\n",
    "    def integrand(x,n):\n",
    "        return f(x) * np.sin(2*n*PI*x/L)\n",
    "    \n",
    "    options={'limit':100000}\n",
    "    integral = integrate.quad(integrand, a, b, args=(n), limit=1000)\n",
    "\n",
    "    return  (2.0/L) * integral[0]\n",
    "\n",
    "t0 = -1.0*pi\n",
    "tn =  4.0*pi\n",
    "\n",
    "t = linspace(t0,tn,10000)\n",
    "\n",
    "def FS(x,t,Kmax):\n",
    "    \n",
    "    sx = np.ones(size(t))\n",
    "    sx = sx * (an(x,0)/2.0)\n",
    "    for k in range(1,Kmax):\n",
    "        sx = sx + an(x,k)*np.cos(k*t) + bn(x,k)*np.sin(k*t)\n",
    "    return sx\n",
    "\n",
    "# analytical solution\n",
    "#series = np.zeros(dx) + (PI**2) /3\n",
    "\n",
    "#for n in range(1,Kmax):\n",
    "#    an = (-1)**n * 4/(n**2)\n",
    "#    series = series + an*np.cos(n*x)\n",
    "\n",
    "%matplotlib inline\n",
    "\n",
    "def nPeriodic(f,x,a,b):\n",
    "    period = a - b\n",
    "    return f((x-a) % period + b)\n",
    "\n",
    "def pltFS(Kmax):\n",
    "    #for k in range(2,Kmax):\n",
    "    plt.plot(t, FS(x,t,Kmax), t0, tn,label=str.format(\"k=\",k))\n",
    "    plt.plot(t, nPeriodic(f,t,a,b), t0, tn, color='k',linewidth=1.0)\n",
    "    plt.xticks([-np.pi, 0, np.pi, 2*np.pi, 3*np.pi, 4*np.pi],\n",
    "          [r'$-\\pi$', r'$0$', r'$\\pi$', r'$2\\pi$', r'$3\\pi$', r'$4\\pi$'])\n",
    "    plt.show()\n",
    "    print(\"k = \", Kmax)\n",
    "\n",
    "interact(pltFS, Kmax =(3,20,1))\n"
   ]
  },
  {
   "cell_type": "code",
   "execution_count": 6,
   "metadata": {},
   "outputs": [
    {
     "name": "stdout",
     "output_type": "stream",
     "text": [
      "a_0 = 2*pi**2/3\n",
      "a_n = 4*(-1)**n/n**2\n",
      "b_n = 0\n"
     ]
    },
    {
     "data": {
      "application/vnd.jupyter.widget-view+json": {
       "model_id": "f754e4e5fa9e4a41bdece0e7ec4f1670",
       "version_major": 2,
       "version_minor": 0
      },
      "text/plain": [
       "A Jupyter Widget"
      ]
     },
     "metadata": {},
     "output_type": "display_data"
    },
    {
     "data": {
      "text/plain": [
       "<function __main__.pltFS>"
      ]
     },
     "execution_count": 6,
     "metadata": {},
     "output_type": "execute_result"
    }
   ],
   "source": [
    "# Generic Harmoic Series\n",
    "\n",
    "from sympy import *\n",
    "from ipywidgets import *\n",
    "\n",
    "A = symbols('A', integer=False, positive=True)\n",
    "n = symbols('n', integer=True,  positive=True)\n",
    "k = symbols('k', integer=True,  positive=True)\n",
    "x = Symbol('x')\n",
    "\n",
    "a = -pi\n",
    "b =  pi\n",
    "L =  b-a\n",
    "\n",
    "f = x**2\n",
    "\n",
    "a_0 = (2/L) * integrate(f, (x,a,b))\n",
    "a_n = (2/L) * integrate(f*cos(2*n*pi*x/L), (x,a,b))\n",
    "b_n = (2/L) * integrate(f*sin(2*n*pi*x/L), (x,a,b))\n",
    "\n",
    "print(\"a_0 =\", simplify(a_0))\n",
    "print(\"a_n =\", simplify(a_n))\n",
    "print(\"b_n =\", simplify(b_n))\n",
    "\n",
    "from pylab import *\n",
    "\n",
    "Kmax = 10\n",
    "t0 = -1.0*pi\n",
    "tn =  4.0*pi\n",
    "\n",
    "t = linspace(t0,tn,1000)\n",
    "\n",
    "def AFS(t,Kmax):\n",
    "    fs = zeros(1000)\n",
    "    fs = fs + pi**2/3\n",
    "    for k in range(1,Kmax):\n",
    "        #fs = fs + 2/(pi*k**2)+((-2)**k-1)*cos(k*t)\n",
    "        #fs = fs + (2.0*(-1)**(k+1))/(pi*k) * sin(k*t)\n",
    "        fs = fs + 4*(-1)**k/k**2 * cos(k*t)\n",
    "    return fs\n",
    "\n",
    "def f(x):\n",
    "    return x**2\n",
    "\n",
    "def nPeriodic(f,x,a,b):\n",
    "    period = a - b\n",
    "    return f((x-a) % period + b)\n",
    "     \n",
    "%matplotlib inline\n",
    "\n",
    "\n",
    "def pltFS(Kmax):\n",
    "    \n",
    "    plt.plot(t, AFS(t,Kmax), t0, tn)\n",
    "    plt.plot(t, nPeriodic(f,t,a,b), t0, tn, color='k',linewidth=1.0)\n",
    "    plt.title('Fourier Series $f(x) = x, -\\pi < x < \\pi$')\n",
    "    plt.xticks([-np.pi, 0, np.pi, 2*np.pi, 3*np.pi, 4*np.pi],\n",
    "          [r'$-\\pi$', r'$0$', r'$\\pi$', r'$2\\pi$', r'$3\\pi$', r'$4\\pi$'])\n",
    "    plt.show()\n",
    "    print(\"k = \", Kmax)\n",
    "\n",
    "interact(pltFS, Kmax =(1,10,1))\n",
    "\n",
    "\n"
   ]
  },
  {
   "cell_type": "code",
   "execution_count": 3,
   "metadata": {},
   "outputs": [
    {
     "name": "stdout",
     "output_type": "stream",
     "text": [
      "a_0 = 0\n",
      "a_n = 0\n",
      "b_n = -2*(-1)**n/n\n"
     ]
    },
    {
     "data": {
      "application/vnd.jupyter.widget-view+json": {
       "model_id": "e09591c776cb42fdab9da23887cf5300",
       "version_major": 2,
       "version_minor": 0
      },
      "text/plain": [
       "A Jupyter Widget"
      ]
     },
     "metadata": {},
     "output_type": "display_data"
    },
    {
     "data": {
      "text/plain": [
       "<function __main__.pltFS>"
      ]
     },
     "execution_count": 3,
     "metadata": {},
     "output_type": "execute_result"
    }
   ],
   "source": [
    "# Generic Harmoic Series\n",
    "import numpy as np\n",
    "import matplotlib.pyplot as plt\n",
    "from IPython.display import display, Math, Latex\n",
    "from sympy import *\n",
    "from sympy.abc import x\n",
    "from ipywidgets import *\n",
    "\n",
    "n = symbols('n', integer=True, positive=True)\n",
    "k = symbols('k', integer=True, positive=True)\n",
    "x = Symbol('x')\n",
    "\n",
    "a = -pi\n",
    "b =  pi\n",
    "L =  b-a\n",
    "\n",
    "f =  x\n",
    "#g = -1\n",
    "#f = Piecewise( (0, x<0), (f, x>=0), (g, True))\n",
    "#print(piecewise_fold(x*f))\n",
    "\n",
    "#f = x**2\n",
    "\n",
    "a_0 = (2/L) * integrate(f, (x,a,b))\n",
    "a_n = (2/L) * integrate(f*cos(2*n*pi*x/L), (x,a,b))\n",
    "b_n = (2/L) * integrate(f*sin(2*n*pi*x/L), (x,a,b))\n",
    "\n",
    "print(\"a_0 =\", simplify(a_0))\n",
    "print(\"a_n =\", simplify(a_n))\n",
    "print(\"b_n =\", simplify(b_n))\n",
    "\n",
    "from pylab import *\n",
    "\n",
    "Kmax = 10\n",
    "t0 = -1.0*pi\n",
    "tn =  4.0*pi\n",
    "dt = 100\n",
    "\n",
    "t = linspace(t0,tn,dt)\n",
    "\n",
    "def AFS(t,Kmax):\n",
    "    fs = zeros(dt)\n",
    "    fs = fs + 0\n",
    "    for k in range(1,Kmax):\n",
    "        #fs = fs + 2/(pi*k**2)+((-2)**k-1)*cos(k*t)\n",
    "        #fs = fs + (2.0*(-1)**(k+1))/(pi*k) * sin(k*t)\n",
    "        #fs = fs + 4*(-1)**k/k**2 * cos(k*t)\n",
    "        fs = fs + (-2*(-1)**k/k) * sin(k*t)\n",
    "    return fs\n",
    "\n",
    "#def f(x):\n",
    "#    return 1 * (x > 0)\n",
    "\n",
    "def f(x):\n",
    "    return x\n",
    "\n",
    "vfun = np.vectorize(f)\n",
    "\n",
    "def nPeriodic(f,x,a,b):\n",
    "    period = a - b\n",
    "    return f((x-a) % period + b)\n",
    "     \n",
    "%matplotlib inline\n",
    "\n",
    "ymin = min(nPeriodic(f,t,a,b))\n",
    "ymax = max(nPeriodic(f,t,a,b))\n",
    "\n",
    "def pltFS(Kmax):\n",
    "    #for k in range(1,Kmax):\n",
    "    kstring = str.format(\"k = \", k)\n",
    "    plt.plot(t, AFS(t,Kmax), t0, tn, label='k')\n",
    "    plt.plot(t, nPeriodic(f,t,a,b), t0, tn, color='k',linewidth=1.0,label='s(x)')\n",
    "    plt.title('Fourier Series $f(x) = x, -\\pi < x < \\pi$')\n",
    "    plt.xticks([-np.pi, 0, np.pi, 2*np.pi, 3*np.pi, 4*np.pi],\n",
    "          [r'$-\\pi$', r'$0$', r'$\\pi$', r'$2\\pi$', r'$3\\pi$', r'$4\\pi$'])\n",
    "    plt.ylim([-np.pi-0.5, np.pi+0.5])\n",
    "    plt.show(block_collapse)\n",
    "    print(\"Num_k = \", Kmax)\n",
    "\n",
    "interact(pltFS, Kmax =(1,20,1))\n",
    "#plt.plot(t,nPeriodic(f,t,a,b), t0, tn, color='k',linewidth=1.0)\n",
    "\n",
    "\n",
    "\n",
    "\n"
   ]
  },
  {
   "cell_type": "code",
   "execution_count": 4,
   "metadata": {},
   "outputs": [
    {
     "data": {
      "text/latex": [
       "$$F(k) = \\int_{-\\infty}^{\\infty} f(x) e^{2\\pi i k} dx$$"
      ],
      "text/plain": [
       "<IPython.core.display.Math object>"
      ]
     },
     "metadata": {},
     "output_type": "display_data"
    }
   ],
   "source": [
    "\n",
    "\n",
    "from IPython.display import display, Math, Latex\n",
    "display(Math(r'F(k) = \\int_{-\\infty}^{\\infty} f(x) e^{2\\pi i k} dx'))"
   ]
  },
  {
   "cell_type": "code",
   "execution_count": 5,
   "metadata": {},
   "outputs": [
    {
     "ename": "TypeError",
     "evalue": "unsupported operand type(s) for *: 'Symbol' and 'function'",
     "output_type": "error",
     "traceback": [
      "\u001b[0;31m---------------------------------------------------------------------------\u001b[0m",
      "\u001b[0;31mTypeError\u001b[0m                                 Traceback (most recent call last)",
      "\u001b[0;32m<ipython-input-5-b0434754ea86>\u001b[0m in \u001b[0;36m<module>\u001b[0;34m()\u001b[0m\n\u001b[0;32m----> 1\u001b[0;31m \u001b[0mpiecewise_fold\u001b[0m\u001b[0;34m(\u001b[0m\u001b[0mx\u001b[0m\u001b[0;34m*\u001b[0m\u001b[0mf\u001b[0m\u001b[0;34m)\u001b[0m\u001b[0;34m\u001b[0m\u001b[0m\n\u001b[0m",
      "\u001b[0;31mTypeError\u001b[0m: unsupported operand type(s) for *: 'Symbol' and 'function'"
     ]
    }
   ],
   "source": [
    "piecewise_fold(x*f)\n"
   ]
  },
  {
   "cell_type": "code",
   "execution_count": null,
   "metadata": {},
   "outputs": [],
   "source": [
    "print(ymin,ymax)"
   ]
  },
  {
   "cell_type": "code",
   "execution_count": null,
   "metadata": {
    "collapsed": true
   },
   "outputs": [],
   "source": []
  }
 ],
 "metadata": {
  "kernelspec": {
   "display_name": "Python 3",
   "language": "python",
   "name": "python3"
  },
  "language_info": {
   "codemirror_mode": {
    "name": "ipython",
    "version": 3
   },
   "file_extension": ".py",
   "mimetype": "text/x-python",
   "name": "python",
   "nbconvert_exporter": "python",
   "pygments_lexer": "ipython3",
   "version": "3.6.3"
  }
 },
 "nbformat": 4,
 "nbformat_minor": 2
}
